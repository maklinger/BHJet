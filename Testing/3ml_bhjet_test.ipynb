{
 "cells": [
  {
   "cell_type": "code",
   "execution_count": null,
   "metadata": {},
   "outputs": [
    {
     "name": "stdout",
     "output_type": "stream",
     "text": [
      "The autoreload extension is already loaded. To reload it, use:\n",
      "  %reload_ext autoreload\n"
     ]
    }
   ],
   "source": [
    "from timeit import Timer\n",
    "\n",
    "#for the testing dir\n",
    "import sys\n",
    "sys.path.append(\"..\")\n",
    "\n",
    "from pybhjet.pybhjet_3ml import BHJetModel\n",
    "from threeML import Model\n",
    "import matplotlib.pyplot as plt\n",
    "import numpy as np\n",
    "from threeML import use_astromodels_memoization\n",
    "use_astromodels_memoization(True)\n",
    "\n",
    "import matplotlib as mpl\n",
    "mpl.rcParams.update(mpl.rcParamsDefault)\n",
    "\n",
    "%load_ext autoreload\n",
    "%autoreload 2"
   ]
  },
  {
   "cell_type": "code",
   "execution_count": 9,
   "metadata": {},
   "outputs": [],
   "source": [
    "#setting up the Pybind Model to be usable in threeml \n",
    "bhjet = BHJetModel()\n",
    "x_values = np.logspace(-9, 5, 1000)"
   ]
  },
  {
   "cell_type": "code",
   "execution_count": 10,
   "metadata": {},
   "outputs": [],
   "source": [
    "#how bhjet model is evaluated in threeml, just expects the x values and returns interp. flux \n",
    "calc_flux = bhjet(x_values)"
   ]
  },
  {
   "cell_type": "code",
   "execution_count": 11,
   "metadata": {},
   "outputs": [
    {
     "data": {
      "text/plain": [
       "OrderedDict([('Mbh',\n",
       "              Parameter Mbh = 660000000.0 []\n",
       "              (min_value = 100000.0, max_value = 1000000000.0, delta = 0.1, free = True)),\n",
       "             ('jetrat',\n",
       "              Parameter jetrat = 0.01 []\n",
       "              (min_value = 1e-07, max_value = 1.0, delta = 0.1, free = True)),\n",
       "             ('r_0',\n",
       "              Parameter r_0 = 10.0 []\n",
       "              (min_value = 2.0, max_value = 50.0, delta = 0.1, free = True)),\n",
       "             ('z_diss',\n",
       "              Parameter z_diss = 50.0 []\n",
       "              (min_value = 30.0, max_value = 500.0, delta = 0.1, free = True)),\n",
       "             ('z_acc',\n",
       "              Parameter z_acc = 50.0 []\n",
       "              (min_value = 30.0, max_value = 500.0, delta = 0.1, free = True)),\n",
       "             ('t_e',\n",
       "              Parameter t_e = 400.0 []\n",
       "              (min_value = 50.0, max_value = 1200.0, delta = 0.1, free = True)),\n",
       "             ('f_nth',\n",
       "              Parameter f_nth = 0.1 []\n",
       "              (min_value = 0.05, max_value = 0.9, delta = 0.1, free = True)),\n",
       "             ('f_pl',\n",
       "              Parameter f_pl = 0.0 []\n",
       "              (min_value = 0.0, max_value = 10.0, delta = 0.1, free = True)),\n",
       "             ('pspec',\n",
       "              Parameter pspec = 2.0 []\n",
       "              (min_value = 1.5, max_value = 3.0, delta = 0.1, free = True)),\n",
       "             ('f_heat',\n",
       "              Parameter f_heat = 1.0 []\n",
       "              (min_value = None, max_value = None, delta = 0.1, free = True)),\n",
       "             ('f_beta',\n",
       "              Parameter f_beta = 0.1 []\n",
       "              (min_value = None, max_value = None, delta = 0.1, free = True)),\n",
       "             ('f_sc',\n",
       "              Parameter f_sc = 2e-09 []\n",
       "              (min_value = 1e-09, max_value = 1.0, delta = 0.1, free = True)),\n",
       "             ('p_beta',\n",
       "              Parameter p_beta = 0.02 []\n",
       "              (min_value = 0.001, max_value = 0.04, delta = 0.1, free = True)),\n",
       "             ('sig_acc',\n",
       "              Parameter sig_acc = 0.01 []\n",
       "              (min_value = 0.01, max_value = 1.0, delta = 0.1, free = True)),\n",
       "             ('l_disk',\n",
       "              Parameter l_disk = 1e-05 []\n",
       "              (min_value = 1e-07, max_value = 1.0, delta = 1.0000000000000002e-06, free = True)),\n",
       "             ('r_in',\n",
       "              Parameter r_in = 20.0 []\n",
       "              (min_value = 10.0, max_value = 3000.0, delta = 2.0, free = True)),\n",
       "             ('r_out',\n",
       "              Parameter r_out = 1000.0 []\n",
       "              (min_value = 500.0, max_value = 1500.0, delta = 100.0, free = True)),\n",
       "             ('compar1',\n",
       "              Parameter compar1 = 1500.0 []\n",
       "              (min_value = 1000.0, max_value = 3000.0, delta = 150.0, free = True)),\n",
       "             ('compar2',\n",
       "              Parameter compar2 = 5e+40 []\n",
       "              (min_value = 1e+35, max_value = 1e+43, delta = 5e+39, free = True)),\n",
       "             ('compar3',\n",
       "              Parameter compar3 = 1e-08 []\n",
       "              (min_value = 1e-10, max_value = 0.1, delta = 1e-09, free = True))])"
      ]
     },
     "execution_count": 11,
     "metadata": {},
     "output_type": "execute_result"
    }
   ],
   "source": [
    "#listing the free/avail parameters \n",
    "bhjet.free_parameters"
   ]
  },
  {
   "cell_type": "code",
   "execution_count": 13,
   "metadata": {},
   "outputs": [
    {
     "data": {
      "image/png": "[encoded data removed]",
      "text/plain": [
       "<Figure size 640x480 with 1 Axes>"
      ]
     },
     "metadata": {},
     "output_type": "display_data"
    }
   ],
   "source": [
    "#ThreeML unit conversion: \n",
    "keV_to_erg = 1.60218e-9 \n",
    "mjy = 1e-26\n",
    "\n",
    "# Convert energy (keV) to frequency (Hz)\n",
    "frequency_hz = x_values / (4.135667696e-18) # for keV back to hz \n",
    "\n",
    "# differential photon flux to flux density \n",
    "original_flux = (calc_flux * (x_values * keV_to_erg)) # erg/s/cm^2/Hz\n",
    "\n",
    "plt.loglog(frequency_hz, original_flux*frequency_hz, label=\"3ML Output\")\n",
    "plt.legend()\n",
    "plt.show()"
   ]
  },
  {
   "cell_type": "code",
   "execution_count": null,
   "metadata": {},
   "outputs": [],
   "source": []
  }
 ],
 "metadata": {
  "kernelspec": {
   "display_name": "threeML",
   "language": "python",
   "name": "python3"
  },
  "language_info": {
   "codemirror_mode": {
    "name": "ipython",
    "version": 3
   },
   "file_extension": ".py",
   "mimetype": "text/x-python",
   "name": "python",
   "nbconvert_exporter": "python",
   "pygments_lexer": "ipython3",
   "version": "3.9.20"
  }
 },
 "nbformat": 4,
 "nbformat_minor": 2
}
